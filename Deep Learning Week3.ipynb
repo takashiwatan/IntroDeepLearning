{
 "cells": [
  {
   "cell_type": "markdown",
   "metadata": {},
   "source": [
    "# CNN Cancer Detection Kaggle Mini-Project\n",
    "## Module 3 Peer-graded Assignment\n",
    "\n",
    "### Overview\n",
    "\n",
    "Histopathology is the diagnosis of diseases based on examining under a microscope. “Histopathologic Cancer Detection” was a Kaggle competition that took place in 2018 and 2019, and its objective was to identity metastatic cancer in small image patches taken from larger digital pathology scans.\n",
    "\n",
    "The competition provides 220,025 training and 57,458 test 96x96 tiff images. Looking at the leadeboard, there were contestants who scores 100% or close to 100%. This suggests the highly predictive models are attainable."
   ]
  },
  {
   "cell_type": "code",
   "execution_count": 1,
   "metadata": {},
   "outputs": [],
   "source": [
    "# Load libraries\n",
    "import numpy as np\n",
    "import pandas as pd\n",
    "import matplotlib.pyplot as plt\n",
    "import seaborn as sns\n",
    "import os, os.path, shutil\n",
    "\n",
    "from sklearn.utils import shuffle\n",
    "from sklearn.model_selection import train_test_split\n",
    "from keras.utils import to_categorical\n",
    "%matplotlib inline\n",
    "\n",
    "# read labels first\n",
    "labels = pd.read_csv('./train_labels.csv')"
   ]
  },
  {
   "cell_type": "code",
   "execution_count": 2,
   "metadata": {},
   "outputs": [
    {
     "name": "stdout",
     "output_type": "stream",
     "text": [
      "Label entries 220025, Training files 220025, Test files 57458\n",
      "0    130908\n",
      "1     89117\n",
      "Name: label, dtype: int64\n"
     ]
    },
    {
     "data": {
      "text/plain": [
       "<AxesSubplot:xlabel='label', ylabel='Count'>"
      ]
     },
     "execution_count": 2,
     "metadata": {},
     "output_type": "execute_result"
    },
    {
     "data": {
      "image/png": "[encoded data removed]",
      "text/plain": [
       "<Figure size 432x288 with 1 Axes>"
      ]
     },
     "metadata": {
      "needs_background": "light"
     },
     "output_type": "display_data"
    }
   ],
   "source": [
    "# verify the numbers of entries\n",
    "print (f'Label entries {len(labels)}, Training files {len([name for name in os.listdir(\"./train\")])}, Test files {len([name for name in os.listdir(\"./test\")])}')\n",
    "print (labels['label'].value_counts())\n",
    "sns.histplot(data=labels, x='label', bins=2)"
   ]
  },
  {
   "cell_type": "markdown",
   "metadata": {},
   "source": [
    "### The data and EDA\n",
    "The only EDA that does not involve getting into the images is to count the files in the training data set. Among them, 130,908 files are labeled negative and 89,117 files are labeled positive, as shown above. It contains enough positive cases to build a classification model. The number of files matches with the supplied CSV file, and no image file appeared be corrupted. As such, I did not perform any significant data cleansing.\n",
    "\n",
    "My untrained eyes could not make sense out of visual inspections of images.\n",
    "\n",
    "### Data Preparation\n",
    "To take advantage of Kera’s `image_dataset_from_directory()` function, I will copy files to a directory with subdirectories for each class (0 and 1). I will delete and create the directory for each run. Also I will specify the number of files that I use for each run. `image_dataset_from_directory()` takes care of the rest.\n"
   ]
  },
  {
   "cell_type": "code",
   "execution_count": 3,
   "metadata": {},
   "outputs": [],
   "source": [
    "DATASETDIR = \"./dataset\"\n",
    "NUM_TRAIN_NEGATIVE = 40000\n",
    "NUM_TRAIN_POSITIVE = 40000\n",
    "\n",
    "if NUM_TRAIN_NEGATIVE > labels['label'].value_counts()[0] or NUM_TRAIN_POSITIVE > labels['label'].value_counts()[1]:\n",
    "    print (\"Check the sampling number\")\n",
    "    exit()\n",
    "\n",
    "# Delete files from the precious run\n",
    "shutil.rmtree(DATASETDIR,ignore_errors=True)  \n",
    "# Creating the directory structures. Not robust, no error checking, but it should be fine for this product\n",
    "os.mkdir(DATASETDIR)\n",
    "os.makedirs(DATASETDIR+\"/training/0\")\n",
    "os.makedirs(DATASETDIR+\"/training/1\")\n",
    "os.makedirs(DATASETDIR+\"/validation/0\")\n",
    "os.makedirs(DATASETDIR+\"/validation/1\")\n",
    "\n",
    "# File sampling, randomly\n",
    "df =pd.concat([labels[labels['label'] == 0].sample(NUM_TRAIN_NEGATIVE, random_state = 13), \n",
    "              labels[labels['label'] == 1].sample(NUM_TRAIN_POSITIVE, random_state = 33)], axis=0)\n",
    "df=shuffle(df).reset_index()\n",
    "\n",
    "# Split the files into training and validation\n",
    "X_train, X_test = train_test_split(df, test_size=0.25, random_state=42)\n",
    "\n",
    "# Copy files \n",
    "for i in range(len(X_train)):\n",
    "    shutil.copyfile(\"./train/\"+X_train.iloc[i]['id']+\".tif\", \n",
    "                    \"./dataset/training/\"+str(X_train.iloc[i]['label'])+\"/\"+X_train.iloc[i]['id']+\".tif\")\n",
    "    \n",
    "for i in range(len(X_test)):\n",
    "    shutil.copyfile(\"./train/\"+X_train.iloc[i]['id']+\".tif\", \n",
    "                    \"./dataset/validation/\"+str(X_train.iloc[i]['label'])+\"/\"+X_train.iloc[i]['id']+\".tif\")\n"
   ]
  },
  {
   "cell_type": "code",
   "execution_count": 4,
   "metadata": {},
   "outputs": [
    {
     "name": "stdout",
     "output_type": "stream",
     "text": [
      "Found 60000 images belonging to 2 classes.\n",
      "Found 20000 images belonging to 2 classes.\n",
      "Found 20000 images belonging to 2 classes.\n"
     ]
    }
   ],
   "source": [
    "from keras.preprocessing.image import ImageDataGenerator\n",
    "\n",
    "train_batch_size = 128\n",
    "test_batch_size = 128\n",
    "\n",
    "train_steps = np.ceil(len(X_train) / train_batch_size)\n",
    "test_steps = np.ceil(len(X_test) / test_batch_size)\n",
    "\n",
    "# the lambda came from: https://forums.fast.ai/t/images-normalization/4058.\n",
    "gen_data = ImageDataGenerator(preprocessing_function=lambda x:(x - x.mean()) / x.std() if x.std() > 0 else x,\n",
    "                            horizontal_flip=True, vertical_flip=True)\n",
    "\n",
    "train = gen_data.flow_from_directory(\"./dataset/training\",target_size=(96,96),\n",
    "                                     batch_size=train_batch_size,class_mode='binary')\n",
    "test = gen_data.flow_from_directory(\"./dataset/validation\",target_size=(96,96),\n",
    "                                    batch_size=test_batch_size,class_mode='binary')\n",
    "# use the same validation data for training evaluation too.\n",
    "val =  gen_data.flow_from_directory(\"./dataset/validation\",target_size=(96,96),\n",
    "                                    batch_size=1,class_mode='binary',shuffle=False)"
   ]
  },
  {
   "cell_type": "markdown",
   "metadata": {},
   "source": [
    "### Model and Architecture\n",
    "The model is a convolutional neural network model consisting of the input layer, the output layer and the hidden layers. It follows the “typical CNN architecture” that was presented in the lecture, which has the `[Conv->Conv->Maxpool]*n -> Dense -> Out` structure.\n",
    "\n",
    "The number of filters and layers, as well as the size of filters and poolings are rather rbitrarily chosen. Initially I replicated some structures and parameters that I found in sample programs and notebooks posted on Kaggle. Then I tried combining and tweaking the structures and parameters. The process was highly in try-and-error, and I have to admit that I do not have a solid explanation on why the model responded to my changes in the observed ways. \n",
    "\n",
    "For the activation functions, I used ReLU for the hidden layers and Sigmoid for the output layer. I obtained better results with 3x3 MaxPool than 2x2. I applied Dropouts and Batch Normalization for regularization, both of which improved the results. \n",
    "I used a Keras function `ReduceLROnPlateau()` which reduces the learning rate when the model performance plateaus. It turned out to be highly effective judging from the command line outputs. \n",
    "\n",
    "Finally, the sample size mattered. I started with 2000 to 3000 samples without a GPU, and I was getting the accuracy score of about 0.75 at best. With 80,000 samples from each class, using a GPU, as shown above, I was able to hit 0.85 accuracy.\n"
   ]
  },
  {
   "cell_type": "code",
   "execution_count": 5,
   "metadata": {},
   "outputs": [
    {
     "name": "stdout",
     "output_type": "stream",
     "text": [
      "Epoch 1/20\n",
      "469/469 [==============================] - 257s 523ms/step - loss: 0.4302 - accuracy: 0.8028 - val_loss: 1.4383 - val_accuracy: 0.6055 - lr: 0.0010\n",
      "Epoch 2/20\n",
      "469/469 [==============================] - 212s 451ms/step - loss: 0.3457 - accuracy: 0.8492 - val_loss: 1.2902 - val_accuracy: 0.5090 - lr: 0.0010\n",
      "Epoch 3/20\n",
      "469/469 [==============================] - 206s 439ms/step - loss: 0.3140 - accuracy: 0.8647 - val_loss: 0.4182 - val_accuracy: 0.8284 - lr: 0.0010\n",
      "Epoch 4/20\n",
      "469/469 [==============================] - 217s 462ms/step - loss: 0.2926 - accuracy: 0.8769 - val_loss: 0.5233 - val_accuracy: 0.7757 - lr: 0.0010\n",
      "Epoch 5/20\n",
      "469/469 [==============================] - 257s 548ms/step - loss: 0.2751 - accuracy: 0.8853 - val_loss: 0.4031 - val_accuracy: 0.8362 - lr: 0.0010\n",
      "Epoch 6/20\n",
      "469/469 [==============================] - 246s 524ms/step - loss: 0.2565 - accuracy: 0.8938 - val_loss: 0.4001 - val_accuracy: 0.8359 - lr: 0.0010\n",
      "Epoch 7/20\n",
      "469/469 [==============================] - 231s 493ms/step - loss: 0.2407 - accuracy: 0.9023 - val_loss: 0.4082 - val_accuracy: 0.8310 - lr: 0.0010\n",
      "Epoch 8/20\n",
      "469/469 [==============================] - 239s 509ms/step - loss: 0.2339 - accuracy: 0.9054 - val_loss: 0.3814 - val_accuracy: 0.8354 - lr: 0.0010\n",
      "Epoch 9/20\n",
      "469/469 [==============================] - 256s 547ms/step - loss: 0.2215 - accuracy: 0.9105 - val_loss: 0.4220 - val_accuracy: 0.8166 - lr: 0.0010\n",
      "Epoch 10/20\n",
      "469/469 [==============================] - 255s 543ms/step - loss: 0.2151 - accuracy: 0.9140 - val_loss: 0.6177 - val_accuracy: 0.7618 - lr: 0.0010\n",
      "Epoch 11/20\n",
      "469/469 [==============================] - 261s 556ms/step - loss: 0.2073 - accuracy: 0.9168 - val_loss: 0.3449 - val_accuracy: 0.8519 - lr: 0.0010\n",
      "Epoch 12/20\n",
      "469/469 [==============================] - 239s 509ms/step - loss: 0.2034 - accuracy: 0.9206 - val_loss: 0.3112 - val_accuracy: 0.8763 - lr: 0.0010\n",
      "Epoch 13/20\n",
      "469/469 [==============================] - 252s 536ms/step - loss: 0.1981 - accuracy: 0.9222 - val_loss: 0.3377 - val_accuracy: 0.8610 - lr: 0.0010\n",
      "Epoch 14/20\n",
      "469/469 [==============================] - 253s 540ms/step - loss: 0.1912 - accuracy: 0.9253 - val_loss: 0.3061 - val_accuracy: 0.8762 - lr: 0.0010\n",
      "Epoch 15/20\n",
      "469/469 [==============================] - 223s 475ms/step - loss: 0.1878 - accuracy: 0.9259 - val_loss: 0.5650 - val_accuracy: 0.7658 - lr: 0.0010\n",
      "Epoch 16/20\n",
      "469/469 [==============================] - 259s 553ms/step - loss: 0.1860 - accuracy: 0.9270 - val_loss: 0.2692 - val_accuracy: 0.9069 - lr: 0.0010\n",
      "Epoch 17/20\n",
      "469/469 [==============================] - 234s 498ms/step - loss: 0.1831 - accuracy: 0.9285 - val_loss: 0.3764 - val_accuracy: 0.8472 - lr: 0.0010\n",
      "Epoch 18/20\n",
      "469/469 [==============================] - 274s 585ms/step - loss: 0.1781 - accuracy: 0.9305 - val_loss: 0.4163 - val_accuracy: 0.8206 - lr: 0.0010\n",
      "Epoch 19/20\n",
      "469/469 [==============================] - ETA: 0s - loss: 0.1756 - accuracy: 0.9322\n",
      "Epoch 19: ReduceLROnPlateau reducing learning rate to 0.00010000000474974513.\n",
      "469/469 [==============================] - 265s 564ms/step - loss: 0.1756 - accuracy: 0.9322 - val_loss: 0.2786 - val_accuracy: 0.8889 - lr: 0.0010\n",
      "Epoch 20/20\n",
      "469/469 [==============================] - 235s 501ms/step - loss: 0.1542 - accuracy: 0.9415 - val_loss: 0.3041 - val_accuracy: 0.8724 - lr: 1.0000e-04\n"
     ]
    },
    {
     "data": {
      "text/plain": [
       "<keras.callbacks.History at 0x7fb28063cd00>"
      ]
     },
     "execution_count": 5,
     "metadata": {},
     "output_type": "execute_result"
    }
   ],
   "source": [
    "from keras.models import Sequential\n",
    "from keras.layers import Dense, Dropout, Flatten, BatchNormalization, Activation\n",
    "from keras.layers import Conv2D, MaxPool2D, MaxPooling2D, GlobalAveragePooling2D, GlobalMaxPooling2D\n",
    "from keras.optimizers import RMSprop, Adam\n",
    "from keras.callbacks import EarlyStopping, ReduceLROnPlateau\n",
    "import scipy\n",
    "\n",
    "early_stopping = EarlyStopping(monitor = 'val_loss', patience = 7)\n",
    "reducel = ReduceLROnPlateau(monitor='val_loss', patience=3, verbose=1, factor=0.1)\n",
    "\n",
    "model = Sequential()\n",
    "\n",
    "# Model definition\n",
    "# Starting from the structure presented at https://www.kaggle.com/hrmello/cnn-classification-80-accuracy\n",
    "\n",
    "model.add(Conv2D(filters = 16, kernel_size = 3, padding = 'same', activation = 'relu', input_shape = (96, 96, 3)))\n",
    "model.add(BatchNormalization())\n",
    "model.add(Conv2D(filters = 16, kernel_size = 3, padding = 'same', activation = 'relu'))\n",
    "model.add(BatchNormalization())\n",
    "model.add(Conv2D(filters = 16, kernel_size = 3, padding = 'same', activation = 'relu'))\n",
    "model.add(BatchNormalization())\n",
    "model.add(Dropout(0.3))\n",
    "model.add(MaxPooling2D(pool_size = 3)) \n",
    "\n",
    "model.add(Conv2D(filters = 32, kernel_size = 3, padding = 'same', activation = 'relu')) \n",
    "model.add(BatchNormalization())\n",
    "model.add(Conv2D(filters = 32, kernel_size = 3, padding = 'same', activation = 'relu')) \n",
    "model.add(BatchNormalization())\n",
    "model.add(Conv2D(filters = 32, kernel_size = 3, padding = 'same', activation = 'relu'))\n",
    "model.add(BatchNormalization())\n",
    "model.add(Dropout(0.3))\n",
    "model.add(MaxPooling2D(pool_size = 3)) \n",
    "\n",
    "model.add(Conv2D(filters = 64, kernel_size = 3, padding = 'same', activation = 'relu'))\n",
    "model.add(BatchNormalization())\n",
    "model.add(Conv2D(filters = 64, kernel_size = 3, padding = 'same', activation = 'relu'))\n",
    "model.add(BatchNormalization())\n",
    "model.add(Conv2D(filters = 64, kernel_size = 3, padding = 'same', activation = 'relu'))\n",
    "model.add(BatchNormalization())\n",
    "model.add(Dropout(0.3))\n",
    "model.add(MaxPooling2D(pool_size = 3))\n",
    "\n",
    "model.add(Conv2D(filters = 128, kernel_size = 3, padding = 'same', activation = 'relu'))\n",
    "model.add(BatchNormalization())\n",
    "model.add(Conv2D(filters = 128, kernel_size = 3, padding = 'same', activation = 'relu'))\n",
    "model.add(BatchNormalization())\n",
    "model.add(Conv2D(filters = 128, kernel_size = 3, padding = 'same', activation = 'relu'))\n",
    "model.add(BatchNormalization())\n",
    "model.add(Dropout(0.3))\n",
    "model.add(MaxPooling2D(pool_size = 3))\n",
    "\n",
    "model.add(Conv2D(filters = 256, kernel_size = 3, padding = 'same', activation = 'relu'))\n",
    "model.add(BatchNormalization())\n",
    "\n",
    "model.add(Flatten())\n",
    "model.add(Dense(1, activation = 'sigmoid'))\n",
    "\n",
    "# Compile and traing the model\n",
    "model.compile(optimizer= 'adam', loss='binary_crossentropy', metrics=['accuracy'])\n",
    "epochs = 20\n",
    "model.fit(train, steps_per_epoch=train_steps, validation_steps=test_steps, validation_data=test,\n",
    "          epochs=epochs, verbose=1, callbacks = [early_stopping, reducel])"
   ]
  },
  {
   "cell_type": "code",
   "execution_count": 6,
   "metadata": {},
   "outputs": [],
   "source": [
    "from sklearn.metrics import roc_curve, auc, roc_auc_score\n",
    "import matplotlib.pyplot as plt\n",
    "\n",
    "# for to be deprecated functions, specifically predict_generator here.\n",
    "import warnings\n",
    "warnings.filterwarnings('ignore')\n",
    "# make predictions\n",
    "pred = model.predict_generator(val, steps=len(X_test))\n",
    "test_accuracy = 100*np.sum(np.round(pred.flatten()).astype('int32')==val.classes)/len(pred)"
   ]
  },
  {
   "cell_type": "markdown",
   "metadata": {},
   "source": [
    "### Results and Analysis\n",
    "Since this is a classification problem, I printed the confusion matrix and classification report. I find it rather impressive provided I built the CNN model rather randomly. With more experiences and proper skills, I should be able to achieve better performances. However, for the medical screening model, the recall for the positive class is too low at 0.77. This calls for adjustment.\n",
    "\n",
    "I observed that adding filters tends to improve the model performance. I wanted to conduct more experiments with more variations, but the computation time was prohibitive in this project. \n",
    "\n",
    "As it was sigmoid function at the output, I added a ROC curve below. It shows a nice predictive curve. It suggests that this model already could be useful by choosing the right cut off point, or fine tuning the output activation function.\n",
    "\n",
    "There still is large room for improvement. Hyperparameters, that are as simple as the epoch count and early stopping patience, can be tuned more. I only tried the minimum combinations of the regularizations and optimizers. \n"
   ]
  },
  {
   "cell_type": "code",
   "execution_count": 7,
   "metadata": {},
   "outputs": [
    {
     "name": "stdout",
     "output_type": "stream",
     "text": [
      "Classification Report\n",
      "\n",
      "              precision    recall  f1-score   support\n",
      "\n",
      "           0       0.81      0.98      0.88      9960\n",
      "           1       0.97      0.77      0.86     10040\n",
      "\n",
      "    accuracy                           0.87     20000\n",
      "   macro avg       0.89      0.87      0.87     20000\n",
      "weighted avg       0.89      0.87      0.87     20000\n",
      "\n",
      "Confusion Matrix\n",
      "\n",
      "[[9756  204]\n",
      " [2344 7696]]\n",
      "\n",
      "accuracy score 0.8726\n"
     ]
    }
   ],
   "source": [
    "from sklearn.metrics import classification_report, confusion_matrix, accuracy_score\n",
    "\n",
    "# Classificaton report and confusion matrix\n",
    "b_pred = np.round(pred.flatten())\n",
    "print('Classification Report\\n')\n",
    "print(classification_report(val.classes,b_pred))\n",
    "print('Confusion Matrix\\n')\n",
    "print(confusion_matrix(val.classes,b_pred))\n",
    "print(f'\\naccuracy score {accuracy_score(val.classes,b_pred)}')\n"
   ]
  },
  {
   "cell_type": "code",
   "execution_count": 36,
   "metadata": {},
   "outputs": [
    {
     "data": {
      "image/png": "[encoded data removed]",
      "text/plain": [
       "<Figure size 432x288 with 1 Axes>"
      ]
     },
     "metadata": {
      "needs_background": "light"
     },
     "output_type": "display_data"
    }
   ],
   "source": [
    "from sklearn.metrics import roc_curve, auc, roc_auc_score\n",
    "\n",
    "# ROC curve\n",
    "\n",
    "fpr_keras, tpr_keras, thresholds_keras = roc_curve(val.classes, pred)\n",
    "auc_keras = auc(fpr_keras, tpr_keras)\n",
    "\n",
    "plt.figure(1)\n",
    "plt.plot([0, 1], [0, 1])\n",
    "plt.plot(fpr_keras, tpr_keras, label='area = {:.3f}'.format(auc_keras))\n",
    "plt.xlabel('False positive rate')\n",
    "plt.ylabel('True positive rate')\n",
    "plt.title('ROC curve')\n",
    "plt.legend(loc='best')\n",
    "plt.show()"
   ]
  },
  {
   "cell_type": "markdown",
   "metadata": {},
   "source": [
    "### Conclusion\n",
    "\n",
    "I am satisfied with the outcome of my first deep learning project. Compared with the supervised/unsupervised models that I practiced in the proceeding courses, there are much more hyperparameters and model flexibilities, and the model performance responds well to the changes. If the accuracy is the objective, I found it easier to attain better results with deep learning.\n",
    "\n",
    " At the same time, I was not fully confident that I knew what I was doing. While it is fascinating and fun to do, I would not call what I did science or engineering. I need to understand the theory behind the scenes more to apply the techniques in the real world projects. Now I see why people are talking about expandability of the models nowadays.\n"
   ]
  },
  {
   "cell_type": "code",
   "execution_count": 19,
   "metadata": {},
   "outputs": [
    {
     "name": "stdout",
     "output_type": "stream",
     "text": [
      "Found 57458 images belonging to 1 classes.\n"
     ]
    }
   ],
   "source": [
    "# Scoring the test images and save the output into the submission file.\n",
    "# This is ugly and patchy but I could not find a better way to avoid kernel crash.\n",
    "test_set =  gen_data.flow_from_directory(\"./test\",target_size=(96,96),classes=None,shuffle=False)\n",
    "scores = model.predict(test_set,verbose=0)\n",
    "files = [x.split(\".\")[0] for x in sorted(os.listdir(\"./test/0\"))]\n",
    "sc = scores.flatten()\n",
    "submission=pd.DataFrame({'id':files, 'label':sc})\n",
    "submission.to_csv(\"submission.csv\", index = False, header = True)"
   ]
  },
  {
   "cell_type": "code",
   "execution_count": null,
   "metadata": {},
   "outputs": [],
   "source": []
  }
 ],
 "metadata": {
  "kernelspec": {
   "display_name": "Python 3",
   "language": "python",
   "name": "python3"
  },
  "language_info": {
   "codemirror_mode": {
    "name": "ipython",
    "version": 3
   },
   "file_extension": ".py",
   "mimetype": "text/x-python",
   "name": "python",
   "nbconvert_exporter": "python",
   "pygments_lexer": "ipython3",
   "version": "3.8.10"
  }
 },
 "nbformat": 4,
 "nbformat_minor": 2
}
